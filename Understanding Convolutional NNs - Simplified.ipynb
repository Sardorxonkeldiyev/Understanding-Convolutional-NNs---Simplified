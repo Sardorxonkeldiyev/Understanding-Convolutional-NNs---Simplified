{
 "cells": [
  {
   "cell_type": "markdown",
   "metadata": {},
   "source": [
    "### In this section, \n",
    "we load the CIFAR-10 dataset. x_train and y_train are used for training, while x_test and y_test are used for testing."
   ]
  },
  {
   "cell_type": "code",
   "execution_count": 15,
   "metadata": {},
   "outputs": [],
   "source": [
    "import numpy as np\n",
    "from tensorflow.keras.datasets import cifar10\n",
    "from tensorflow.keras.utils import to_categorical\n",
    "from tensorflow.keras.models import Sequential\n",
    "from tensorflow.keras.layers import Conv2D, MaxPooling2D, Flatten, Dense\n",
    "\n",
    "# Load the CIFAR-10 dataset\n",
    "(x_train, y_train), (x_test, y_test) = cifar10.load_data()\n"
   ]
  },
  {
   "cell_type": "markdown",
   "metadata": {},
   "source": [
    "We specify a percentage to use 10% of the dataset."
   ]
  },
  {
   "cell_type": "code",
   "execution_count": 16,
   "metadata": {},
   "outputs": [],
   "source": [
    "# Define the fraction of the dataset to be used (10%)\n",
    "subset_fraction = 0.1"
   ]
  },
  {
   "cell_type": "markdown",
   "metadata": {},
   "source": [
    "We minimize the training and test data. We use the subset_fraction percentage to get only a fraction of the dataset."
   ]
  },
  {
   "cell_type": "code",
   "execution_count": 17,
   "metadata": {},
   "outputs": [],
   "source": [
    "# Reduce the training data\n",
    "train_subset_size = int(len(x_train) * subset_fraction)\n",
    "x_train_subset = x_train[:train_subset_size]\n",
    "y_train_subset = y_train[:train_subset_size]\n",
    "\n",
    "# Reduce the test data\n",
    "test_subset_size = int(len(x_test) * subset_fraction)\n",
    "x_test_subset = x_test[:test_subset_size]\n",
    "y_test_subset = y_test[:test_subset_size]\n"
   ]
  },
  {
   "cell_type": "markdown",
   "metadata": {},
   "source": [
    "We divide by 255 to normalize the data, that is, to ensure that the pixel values ​​are between 0 and 1."
   ]
  },
  {
   "cell_type": "code",
   "execution_count": 18,
   "metadata": {},
   "outputs": [],
   "source": [
    "# Normalize the data\n",
    "x_train_subset, x_test_subset = x_train_subset / 255.0, x_test_subset / 255.0\n"
   ]
  },
  {
   "cell_type": "markdown",
   "metadata": {},
   "source": [
    "A second-order tensor is created for each category by one-hot coding of labels."
   ]
  },
  {
   "cell_type": "code",
   "execution_count": 19,
   "metadata": {},
   "outputs": [],
   "source": [
    "# One-hot encode the labels\n",
    "y_train_subset = to_categorical(y_train_subset, num_classes=10)\n",
    "y_test_subset = to_categorical(y_test_subset, num_classes=10)\n"
   ]
  },
  {
   "cell_type": "markdown",
   "metadata": {},
   "source": [
    "We create a neural network model. \n",
    "There are convolution layers (Conv2D), max-pooling layers (MaxPooling2D), flatten layer and fully connected layers (Dense)."
   ]
  },
  {
   "cell_type": "code",
   "execution_count": 20,
   "metadata": {},
   "outputs": [],
   "source": [
    "# Create the model\n",
    "model = Sequential()\n",
    "model.add(Conv2D(32, (3, 3), activation='relu', input_shape=(32, 32, 3)))\n",
    "model.add(MaxPooling2D(pool_size=(2, 2)))\n",
    "model.add(Conv2D(64, (3, 3), activation='relu'))\n",
    "model.add(MaxPooling2D(pool_size=(2, 2)))\n",
    "model.add(Flatten())\n",
    "model.add(Dense(128, activation='relu'))\n",
    "model.add(Dense(10, activation='softmax'))\n"
   ]
  },
  {
   "cell_type": "markdown",
   "metadata": {},
   "source": [
    "Compiling the model: we use adam as the optimizer, categorical_crossentropy as the loss function and accuracy as the metric."
   ]
  },
  {
   "cell_type": "code",
   "execution_count": 21,
   "metadata": {},
   "outputs": [],
   "source": [
    "# Compile the model\n",
    "model.compile(optimizer='adam', loss='categorical_crossentropy', metrics=['accuracy'])\n"
   ]
  },
  {
   "cell_type": "markdown",
   "metadata": {},
   "source": [
    "Model training: during 10 epochs and 64 examples are used in each batch."
   ]
  },
  {
   "cell_type": "code",
   "execution_count": 22,
   "metadata": {},
   "outputs": [
    {
     "name": "stdout",
     "output_type": "stream",
     "text": [
      "Epoch 1/10\n",
      "79/79 - 6s - 82ms/step - accuracy: 0.2690 - loss: 2.0120\n",
      "Epoch 2/10\n",
      "79/79 - 1s - 17ms/step - accuracy: 0.3976 - loss: 1.6545\n",
      "Epoch 3/10\n",
      "79/79 - 1s - 17ms/step - accuracy: 0.4684 - loss: 1.4942\n",
      "Epoch 4/10\n",
      "79/79 - 1s - 16ms/step - accuracy: 0.4964 - loss: 1.4214\n",
      "Epoch 5/10\n",
      "79/79 - 1s - 17ms/step - accuracy: 0.5246 - loss: 1.3292\n",
      "Epoch 6/10\n",
      "79/79 - 1s - 16ms/step - accuracy: 0.5624 - loss: 1.2368\n",
      "Epoch 7/10\n",
      "79/79 - 1s - 16ms/step - accuracy: 0.5904 - loss: 1.1636\n",
      "Epoch 8/10\n",
      "79/79 - 1s - 16ms/step - accuracy: 0.6088 - loss: 1.1127\n",
      "Epoch 9/10\n",
      "79/79 - 1s - 17ms/step - accuracy: 0.6374 - loss: 1.0320\n",
      "Epoch 10/10\n",
      "79/79 - 1s - 17ms/step - accuracy: 0.6602 - loss: 0.9641\n"
     ]
    },
    {
     "data": {
      "text/plain": [
       "<keras.src.callbacks.history.History at 0x1970f483610>"
      ]
     },
     "execution_count": 22,
     "metadata": {},
     "output_type": "execute_result"
    }
   ],
   "source": [
    "# Train the model\n",
    "model.fit(x_train_subset, y_train_subset, epochs=10, batch_size=64, verbose=2)\n"
   ]
  },
  {
   "cell_type": "markdown",
   "metadata": {},
   "source": [
    "Evaluating the model on the test set and printing the test accuracy (test_acc)."
   ]
  },
  {
   "cell_type": "code",
   "execution_count": null,
   "metadata": {},
   "outputs": [],
   "source": [
    "# Evaluate the model\n",
    "test_loss, test_acc = model.evaluate(x_test_subset, y_test_subset, verbose=2)\n",
    "\n",
    "print('\\nTest accuracy:', test_acc)\n"
   ]
  }
 ],
 "metadata": {
  "kernelspec": {
   "display_name": "base",
   "language": "python",
   "name": "python3"
  },
  "language_info": {
   "codemirror_mode": {
    "name": "ipython",
    "version": 3
   },
   "file_extension": ".py",
   "mimetype": "text/x-python",
   "name": "python",
   "nbconvert_exporter": "python",
   "pygments_lexer": "ipython3",
   "version": "3.11.3"
  },
  "orig_nbformat": 4
 },
 "nbformat": 4,
 "nbformat_minor": 2
}
